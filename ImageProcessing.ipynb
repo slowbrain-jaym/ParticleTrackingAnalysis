{
 "metadata": {
  "language_info": {
   "codemirror_mode": {
    "name": "ipython",
    "version": 3
   },
   "file_extension": ".py",
   "mimetype": "text/x-python",
   "name": "python",
   "nbconvert_exporter": "python",
   "pygments_lexer": "ipython3",
   "version": "3.7.1-final"
  },
  "orig_nbformat": 2,
  "kernelspec": {
   "name": "Python 3.7.1 64-bit ('base': conda)",
   "display_name": "Python 3.7.1 64-bit ('base': conda)",
   "metadata": {
    "interpreter": {
     "hash": "ed225720166559e7176d3793db16a2fd8d295f725007103b21ac3099d2a89ee8"
    }
   }
  }
 },
 "nbformat": 4,
 "nbformat_minor": 2,
 "cells": [
  {
   "cell_type": "code",
   "execution_count": 1,
   "metadata": {},
   "outputs": [],
   "source": [
    "import cv2\n",
    "import pandas as pd \n",
    "import numpy as np "
   ]
  },
  {
   "cell_type": "code",
   "execution_count": 2,
   "metadata": {},
   "outputs": [],
   "source": [
    "target_folder = r\"C:\\Users\\jamen\\Google Drive\\Everything\\Results\\P1\\ParticleTracking\\GlassTest4\\\\\"\n",
    "image_name = \"GlassTest\"\n",
    "first_frame = 4000001\n",
    "final_frame = 4000003"
   ]
  },
  {
   "cell_type": "code",
   "execution_count": 3,
   "metadata": {},
   "outputs": [],
   "source": [
    "particle_ID = 0"
   ]
  },
  {
   "cell_type": "code",
   "execution_count": 6,
   "metadata": {},
   "outputs": [],
   "source": [
    "frame_nums = []\n",
    "x_coords = []\n",
    "y_coords = []\n",
    "refPt = []\n",
    "mouse_release = False\n",
    "\n",
    "def click_and_crop(event, x, y, flags, param):\n",
    "    '''Function records location of left mouse click and reports when left mouse is released'''\n",
    "    # grab references to the global variables\n",
    "    global refPt, mouse_release\n",
    "    mouse_release = False\n",
    "\n",
    "    if event == cv2.EVENT_LBUTTONDOWN:\n",
    "\t    refPt = [x, y]\n",
    "\n",
    "    elif event == cv2.EVENT_LBUTTONUP:\n",
    "        mouse_release = True\n",
    "\n",
    "\n",
    "for i in np.arange(first_frame,final_frame,1):\n",
    "    filename = target_folder + image_name + str(i) + \".tif\"\n",
    "    image = cv2.imread(filename)\n",
    "    clone = image.copy()\n",
    "    cv2.namedWindow(\"image\")\n",
    "    cv2.setMouseCallback(\"image\", click_and_crop)\n",
    "    # keep looping until the 'q' key is pressed\n",
    "    while True:\n",
    "       # global mouse_release, refPt\n",
    "        # display the image and wait for a keypress\n",
    "        cv2.imshow(\"image\", image)\n",
    "        key = cv2.waitKey(1) & 0xFF\n",
    "\n",
    "        if mouse_release:\n",
    "            frame_nums.append(i)\n",
    "            x_coords.append(refPt[0])\n",
    "            y_coords.append(refPt[1])\n",
    "            break\n",
    "\n",
    "        if key == ord(\"n\"):\n",
    "            break\n",
    "    cv2.destroyAllWindows()"
   ]
  },
  {
   "cell_type": "code",
   "execution_count": 16,
   "metadata": {},
   "outputs": [],
   "source": [
    "particle_ID = 0\n",
    "frame_rate = 1500\n",
    "focus_jet = 3\n",
    "save_folder = r\"C:\\Users\\jamen\\Google Drive\\Everything\\Results\\P1\\ParticleTracking\\RawTrackResults\\\\\"\n",
    "file_name = \"GlassTest4\"\n",
    "df = pd.DataFrame({\"Frame Number\":frame_nums,\"x position\":x_coords,\"y position\":y_coords})\n",
    "df[\"particle ID\"] = particle_ID\n",
    "df[\"frame rate\"] = frame_rate\n",
    "df[\"jet in focus\"] = focus_jet\n",
    "df.to_csv(save_folder+file_name+\".csv\")"
   ]
  },
  {
   "cell_type": "code",
   "execution_count": 6,
   "metadata": {},
   "outputs": [
    {
     "output_type": "error",
     "ename": "NameError",
     "evalue": "name 'mouse_release' is not defined",
     "traceback": [
      "\u001b[1;31m---------------------------------------------------------------------------\u001b[0m",
      "\u001b[1;31mNameError\u001b[0m                                 Traceback (most recent call last)",
      "\u001b[1;32m<ipython-input-6-713cc61aef88>\u001b[0m in \u001b[0;36m<module>\u001b[1;34m\u001b[0m\n\u001b[1;32m----> 1\u001b[1;33m \u001b[0mmouse_release\u001b[0m\u001b[1;33m\u001b[0m\u001b[1;33m\u001b[0m\u001b[0m\n\u001b[0m",
      "\u001b[1;31mNameError\u001b[0m: name 'mouse_release' is not defined"
     ]
    }
   ],
   "source": []
  },
  {
   "cell_type": "code",
   "execution_count": 11,
   "metadata": {
    "tags": []
   },
   "outputs": [],
   "source": []
  },
  {
   "cell_type": "code",
   "execution_count": null,
   "metadata": {},
   "outputs": [],
   "source": []
  }
 ]
}